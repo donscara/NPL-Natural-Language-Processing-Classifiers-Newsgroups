{
 "cells": [
  {
   "cell_type": "markdown",
   "id": "0747075f-1adc-4025-ae01-c6380e898f75",
   "metadata": {},
   "source": [
    "**NPL Midterm Coursework by Donato Scarano**\n",
    "\n",
    "Index\n",
    "\n",
    "I. Introduction\n",
    "- Problem area\n",
    "- Objectives\n",
    "- Dataset\n",
    "- Evaluation methodology\n",
    "\n",
    "II. Implementation\n",
    "- Pre-processing\n",
    "- Baseline\n",
    "- Classification methodology\n",
    "- Programming style\n",
    "\n",
    "III. Outcome\n",
    "- Performance\n",
    "- Summary\n"
   ]
  },
  {
   "cell_type": "markdown",
   "id": "575af93f-1308-4c32-8cc9-4055a8dd7d4c",
   "metadata": {},
   "source": [
    "**I. Introduction**\n",
    "\n"
   ]
  },
  {
   "cell_type": "markdown",
   "id": "2d157c35-5fed-4dbe-90ee-39092816c3d7",
   "metadata": {},
   "source": [
    "**1. Domain-specific area**\n",
    "\n",
    "*The first step of the coursework is to identify and describe the problem or challenge. This is an area of industry or science where text classification methods can contribute.*"
   ]
  },
  {
   "cell_type": "markdown",
   "id": "a69266bf-bbd0-456c-b91f-0e42e39b0df6",
   "metadata": {},
   "source": [
    "Text classification today are everywhere and can be used to organize, structure and categorize any kind of text.\n",
    "\n",
    "Text classification is one of the foundations of natural language processing and can be used in a larger context with applications such as sentiment analysis, topic labelling, spam detection and intent detection.\n",
    "\n",
    "Businesses are looking today to ways to interpret the huge amount of data generated everyday, manual analysis and classification is slow and inprecise, text classification is scalable to any business need allowing real-time analysis of vast amount of data in a consistent and accurate way.\n",
    "\n",
    "The dataset I am considering for this coursework is the 20 Newsgroup dataset which contains a wide variety of texts and categories and which represent a good arena to work on classification of data.\n",
    "\n",
    "20 Newsgroup dataset is a collection of approximately 20000 documents divided in different categories, the dataset is available in the scikit-learn library.\n"
   ]
  },
  {
   "cell_type": "markdown",
   "id": "b44a1332-c798-4c1f-bdd3-68a24156be2d",
   "metadata": {},
   "source": [
    "**2. Objectives**\n"
   ]
  },
  {
   "cell_type": "markdown",
   "id": "116e6477-d291-425c-9940-01fa8aa46dd0",
   "metadata": {},
   "source": [
    "The objective of the project is to employ a wide variety of techniques (Naive Bayes, Logistic Regression and more) to classify text and analyze term and documents frequency. \n",
    "\n",
    "There are many contributions this analys can provide to a business for example Netflix or Amazon use classification and sentiment analysis to refine their algorithms and to suggest the most relevant products, fraud detection or spam detection are other important business applications."
   ]
  },
  {
   "cell_type": "markdown",
   "id": "16aea41c-d496-4fc2-a3fd-6030a1874c4a",
   "metadata": {},
   "source": [
    "**3. Dataset**"
   ]
  },
  {
   "cell_type": "markdown",
   "id": "30e9fa30-4cfd-420a-94bd-f94b9e82d5a9",
   "metadata": {},
   "source": [
    "The dataset I am considering for this coursework is the 20 Newsgroup dataset which contains a wide variety of texts and categories and which represent a good arena to work on classification of data.\n",
    "\n",
    "20 Newsgroup dataset is a collection of approximately 20000 documents divided in different categories, the dataset is available in the scikit-learn library.\n",
    "\n",
    "\n"
   ]
  },
  {
   "cell_type": "markdown",
   "id": "0baa5c6c-a7dd-414f-8a1b-122fb7709d51",
   "metadata": {},
   "source": [
    "**4. Evaluation methodology**\n"
   ]
  },
  {
   "cell_type": "markdown",
   "id": "addbdcc2-4a82-40bf-8e18-76a5cf7bb2f4",
   "metadata": {},
   "source": [
    "Accuracy is the benchnmark I have chosen for the comparison between models but my initial exploratory analysis is aiming to confirm this. \n",
    "\n",
    "Other metrics I am considering are precision, recall, f-measure, and averages.\n",
    "\n",
    "In some cases, for example with an unbalanced data set, accuracy is not a good metric and my analysis is aiming to confirm my initial assumptions.\n",
    "\n"
   ]
  },
  {
   "cell_type": "markdown",
   "id": "1fe06c9e-79a9-4069-9725-7cf1a47251fc",
   "metadata": {},
   "source": [
    "**II. Implementation**"
   ]
  },
  {
   "cell_type": "markdown",
   "id": "5af67d74-5e8d-4435-a4a8-6f561803880f",
   "metadata": {
    "tags": []
   },
   "source": [
    "**5. Preprocessing**\n"
   ]
  },
  {
   "cell_type": "code",
   "execution_count": 4,
   "id": "243b6148-aafe-49e9-9fbe-1f13725c93b6",
   "metadata": {
    "tags": []
   },
   "outputs": [],
   "source": [
    "#import libraries\n",
    "from sklearn.naive_bayes import MultinomialNB\n",
    "from sklearn.naive_bayes import BernoulliNB\n",
    "from sklearn.pipeline import Pipeline\n",
    "from sklearn.feature_extraction.text import TfidfVectorizer\n",
    "from sklearn.feature_extraction.text import TfidfTransformer\n",
    "from sklearn.linear_model import SGDClassifier\n",
    "from sklearn.linear_model import LogisticRegression\n",
    "from nltk.stem.snowball import SnowballStemmer\n",
    "from nltk import word_tokenize          \n",
    "from nltk.stem import WordNetLemmatizer\n",
    "from sklearn.neighbors import KNeighborsClassifier\n",
    "\n",
    "import numpy as np\n",
    "\n",
    "import matplotlib.pyplot as plt\n",
    "%matplotlib inline\n",
    "\n",
    "import nltk\n",
    "import pandas as pd\n",
    "import random\n",
    "\n",
    "\n"
   ]
  },
  {
   "cell_type": "markdown",
   "id": "4f4de321-64a4-40fb-b172-020adbeffc96",
   "metadata": {},
   "source": [
    "TRAIN DATASET"
   ]
  },
  {
   "cell_type": "code",
   "execution_count": 5,
   "id": "027398ba-2858-45cb-9449-e66eb6f41322",
   "metadata": {},
   "outputs": [],
   "source": [
    "#import the data set\n",
    "from sklearn.datasets import fetch_20newsgroups\n",
    "#create a subset for the training data and remove header/footers/quotes as they add noise and have no value for the analysis\n",
    "mydata_train = fetch_20newsgroups(subset='train', shuffle=True, remove = ('headers', 'footers', 'quotes'))"
   ]
  },
  {
   "cell_type": "code",
   "execution_count": 6,
   "id": "23d542b9-ebcf-43b2-968a-e168f2bae2b5",
   "metadata": {},
   "outputs": [
    {
     "name": "stdout",
     "output_type": "stream",
     "text": [
      "Training Dataset: 11314\n"
     ]
    }
   ],
   "source": [
    "print('Training Dataset:', len(mydata_train['data']))"
   ]
  },
  {
   "cell_type": "code",
   "execution_count": 7,
   "id": "755835e4-f7fd-4f86-9433-8fbf919e6bbc",
   "metadata": {},
   "outputs": [
    {
     "data": {
      "text/plain": [
       "['alt.atheism',\n",
       " 'comp.graphics',\n",
       " 'comp.os.ms-windows.misc',\n",
       " 'comp.sys.ibm.pc.hardware',\n",
       " 'comp.sys.mac.hardware',\n",
       " 'comp.windows.x',\n",
       " 'misc.forsale',\n",
       " 'rec.autos',\n",
       " 'rec.motorcycles',\n",
       " 'rec.sport.baseball',\n",
       " 'rec.sport.hockey',\n",
       " 'sci.crypt',\n",
       " 'sci.electronics',\n",
       " 'sci.med',\n",
       " 'sci.space',\n",
       " 'soc.religion.christian',\n",
       " 'talk.politics.guns',\n",
       " 'talk.politics.mideast',\n",
       " 'talk.politics.misc',\n",
       " 'talk.religion.misc']"
      ]
     },
     "execution_count": 7,
     "metadata": {},
     "output_type": "execute_result"
    }
   ],
   "source": [
    "# show all categories\n",
    "mydata_train.target_names "
   ]
  },
  {
   "cell_type": "code",
   "execution_count": 8,
   "id": "d18c01a3-ff10-4e31-8667-87d15cb09d93",
   "metadata": {},
   "outputs": [
    {
     "data": {
      "text/plain": [
       "(array([ 0,  1,  2,  3,  4,  5,  6,  7,  8,  9, 10, 11, 12, 13, 14, 15, 16,\n",
       "        17, 18, 19]),\n",
       " array([480, 584, 591, 590, 578, 593, 585, 594, 598, 597, 600, 595, 591,\n",
       "        594, 593, 599, 546, 564, 465, 377], dtype=int64))"
      ]
     },
     "execution_count": 8,
     "metadata": {},
     "output_type": "execute_result"
    }
   ],
   "source": [
    "#frequency for each category\n",
    "targets, frequency = np.unique(mydata_train.target, return_counts=True)\n",
    "targets, frequency "
   ]
  },
  {
   "cell_type": "code",
   "execution_count": 9,
   "id": "88fc7494-8b6f-4279-a292-3ef183cc950a",
   "metadata": {},
   "outputs": [
    {
     "name": "stdout",
     "output_type": "stream",
     "text": [
      "[('alt.atheism', 480), ('comp.graphics', 584), ('comp.os.ms-windows.misc', 591), ('comp.sys.ibm.pc.hardware', 590), ('comp.sys.mac.hardware', 578), ('comp.windows.x', 593), ('misc.forsale', 585), ('rec.autos', 594), ('rec.motorcycles', 598), ('rec.sport.baseball', 597), ('rec.sport.hockey', 600), ('sci.crypt', 595), ('sci.electronics', 591), ('sci.med', 594), ('sci.space', 593), ('soc.religion.christian', 599), ('talk.politics.guns', 546), ('talk.politics.mideast', 564), ('talk.politics.misc', 465), ('talk.religion.misc', 377)]\n"
     ]
    }
   ],
   "source": [
    "targets_str = np.array(mydata_train.target_names)\n",
    "print(list(zip(targets_str, frequency)))"
   ]
  },
  {
   "cell_type": "code",
   "execution_count": 10,
   "id": "59326b0d-b1bb-483c-98fe-50e0461d9dd9",
   "metadata": {},
   "outputs": [
    {
     "data": {
      "image/png": "[encoded data removed]",
      "text/plain": [
       "<Figure size 800x400 with 1 Axes>"
      ]
     },
     "metadata": {},
     "output_type": "display_data"
    }
   ],
   "source": [
    "# Training dataset distribution\n",
    "fig=plt.figure(figsize=(10, 5), dpi= 80, facecolor='w', edgecolor='k')\n",
    "plt.bar(targets_str,frequency)\n",
    "plt.xticks(rotation=90)\n",
    "plt.title('Class distribution of 20 Newsgroups Training Data')\n",
    "plt.xlabel('News Group')\n",
    "plt.ylabel('Frequency')\n",
    "plt.show()"
   ]
  },
  {
   "cell_type": "markdown",
   "id": "57d15f79-f8c6-473d-8dfc-e96d650e4317",
   "metadata": {},
   "source": [
    "We can see that most of the categories have an equal amount of frequency.\n",
    "The dataset is balanced and it confirms that accuracy is a good metric for our analysis and that no resampling is needed.\n"
   ]
  },
  {
   "cell_type": "markdown",
   "id": "0ac03905-cf8f-4636-a862-6283a0825b3f",
   "metadata": {},
   "source": [
    "TEST DATASET"
   ]
  },
  {
   "cell_type": "code",
   "execution_count": 11,
   "id": "41df8a12-ebb6-47ef-957b-26ca77c9eb82",
   "metadata": {},
   "outputs": [],
   "source": [
    "#create a subset for the test data and remove header/footers/quotes as they add noise and have no value for the analysis\n",
    "mydata_test = fetch_20newsgroups(subset='test', shuffle=True, remove = ('headers', 'footers', 'quotes'))"
   ]
  },
  {
   "cell_type": "code",
   "execution_count": 12,
   "id": "b9d2f2f6-b3ca-40e7-a663-4959d579876f",
   "metadata": {},
   "outputs": [
    {
     "name": "stdout",
     "output_type": "stream",
     "text": [
      "Testing dataset: 7532\n"
     ]
    }
   ],
   "source": [
    "print('Testing dataset:', len(mydata_test['data']))\n"
   ]
  },
  {
   "cell_type": "code",
   "execution_count": 13,
   "id": "92fe8a6a-ea96-4e8c-84af-677b1c4e0fd8",
   "metadata": {},
   "outputs": [
    {
     "name": "stdout",
     "output_type": "stream",
     "text": [
      "[('alt.atheism', 319), ('comp.graphics', 389), ('comp.os.ms-windows.misc', 394), ('comp.sys.ibm.pc.hardware', 392), ('comp.sys.mac.hardware', 385), ('comp.windows.x', 395), ('misc.forsale', 390), ('rec.autos', 396), ('rec.motorcycles', 398), ('rec.sport.baseball', 397), ('rec.sport.hockey', 399), ('sci.crypt', 396), ('sci.electronics', 393), ('sci.med', 396), ('sci.space', 394), ('soc.religion.christian', 398), ('talk.politics.guns', 364), ('talk.politics.mideast', 376), ('talk.politics.misc', 310), ('talk.religion.misc', 251)]\n"
     ]
    }
   ],
   "source": [
    "#frequency for each category\n",
    "targets_test, frequency_test = np.unique(mydata_test.target, return_counts=True)\n",
    "targets_test_str = np.array(mydata_test.target_names)\n",
    "print(list(zip(targets_test_str, frequency_test)))"
   ]
  },
  {
   "cell_type": "code",
   "execution_count": 14,
   "id": "22f703c2-7922-405c-b21a-c818bb363371",
   "metadata": {},
   "outputs": [
    {
     "data": {
      "image/png": "[encoded data removed]",
      "text/plain": [
       "<Figure size 800x400 with 1 Axes>"
      ]
     },
     "metadata": {},
     "output_type": "display_data"
    }
   ],
   "source": [
    "# Testing dataset distribution\n",
    "fig=plt.figure(figsize=(10, 5), dpi= 80, facecolor='w', edgecolor='k')\n",
    "plt.bar(targets_test_str,frequency_test)\n",
    "plt.xticks(rotation=90)\n",
    "plt.title('Class distribution of 20 Newsgroups Test Data')\n",
    "plt.xlabel('News Group')\n",
    "plt.ylabel('Frequency')\n",
    "plt.show()"
   ]
  },
  {
   "cell_type": "markdown",
   "id": "10650e20-be48-4f2d-866f-29fba80f97ec",
   "metadata": {},
   "source": [
    "PRE-PROCESSING"
   ]
  },
  {
   "cell_type": "markdown",
   "id": "9fdc434a-c722-4d8c-b554-85df7210a915",
   "metadata": {},
   "source": [
    "We start processing both the train and tast dataset to clean them up."
   ]
  },
  {
   "cell_type": "code",
   "execution_count": 15,
   "id": "253d0aff-d52d-4145-8585-86bd9220796e",
   "metadata": {},
   "outputs": [
    {
     "data": {
      "text/html": [
       "<div>\n",
       "<style scoped>\n",
       "    .dataframe tbody tr th:only-of-type {\n",
       "        vertical-align: middle;\n",
       "    }\n",
       "\n",
       "    .dataframe tbody tr th {\n",
       "        vertical-align: top;\n",
       "    }\n",
       "\n",
       "    .dataframe thead th {\n",
       "        text-align: right;\n",
       "    }\n",
       "</style>\n",
       "<table border=\"1\" class=\"dataframe\">\n",
       "  <thead>\n",
       "    <tr style=\"text-align: right;\">\n",
       "      <th></th>\n",
       "      <th>data</th>\n",
       "      <th>target</th>\n",
       "    </tr>\n",
       "  </thead>\n",
       "  <tbody>\n",
       "    <tr>\n",
       "      <th>0</th>\n",
       "      <td>I was wondering if anyone out there could enli...</td>\n",
       "      <td>7</td>\n",
       "    </tr>\n",
       "    <tr>\n",
       "      <th>1</th>\n",
       "      <td>A fair number of brave souls who upgraded thei...</td>\n",
       "      <td>4</td>\n",
       "    </tr>\n",
       "    <tr>\n",
       "      <th>2</th>\n",
       "      <td>well folks, my mac plus finally gave up the gh...</td>\n",
       "      <td>4</td>\n",
       "    </tr>\n",
       "    <tr>\n",
       "      <th>3</th>\n",
       "      <td>\\nDo you have Weitek's address/phone number?  ...</td>\n",
       "      <td>1</td>\n",
       "    </tr>\n",
       "    <tr>\n",
       "      <th>4</th>\n",
       "      <td>From article &lt;C5owCB.n3p@world.std.com&gt;, by to...</td>\n",
       "      <td>14</td>\n",
       "    </tr>\n",
       "  </tbody>\n",
       "</table>\n",
       "</div>"
      ],
      "text/plain": [
       "                                                data  target\n",
       "0  I was wondering if anyone out there could enli...       7\n",
       "1  A fair number of brave souls who upgraded thei...       4\n",
       "2  well folks, my mac plus finally gave up the gh...       4\n",
       "3  \\nDo you have Weitek's address/phone number?  ...       1\n",
       "4  From article <C5owCB.n3p@world.std.com>, by to...      14"
      ]
     },
     "execution_count": 15,
     "metadata": {},
     "output_type": "execute_result"
    }
   ],
   "source": [
    "#prepare train dataset\n",
    "mydata_train_df = pd.DataFrame({'data': mydata_train.data, 'target': mydata_train.target})\n",
    "mydata_train_df.head()"
   ]
  },
  {
   "cell_type": "code",
   "execution_count": 16,
   "id": "b03f2787-b933-4845-84dc-73b4d0069ecd",
   "metadata": {},
   "outputs": [
    {
     "data": {
      "text/html": [
       "<div>\n",
       "<style scoped>\n",
       "    .dataframe tbody tr th:only-of-type {\n",
       "        vertical-align: middle;\n",
       "    }\n",
       "\n",
       "    .dataframe tbody tr th {\n",
       "        vertical-align: top;\n",
       "    }\n",
       "\n",
       "    .dataframe thead th {\n",
       "        text-align: right;\n",
       "    }\n",
       "</style>\n",
       "<table border=\"1\" class=\"dataframe\">\n",
       "  <thead>\n",
       "    <tr style=\"text-align: right;\">\n",
       "      <th></th>\n",
       "      <th>data</th>\n",
       "      <th>target</th>\n",
       "    </tr>\n",
       "  </thead>\n",
       "  <tbody>\n",
       "    <tr>\n",
       "      <th>0</th>\n",
       "      <td>i was wondering if anyone out there could enli...</td>\n",
       "      <td>7</td>\n",
       "    </tr>\n",
       "    <tr>\n",
       "      <th>1</th>\n",
       "      <td>a fair number of brave souls who upgraded thei...</td>\n",
       "      <td>4</td>\n",
       "    </tr>\n",
       "    <tr>\n",
       "      <th>2</th>\n",
       "      <td>well folks  my mac plus finally gave up the gh...</td>\n",
       "      <td>4</td>\n",
       "    </tr>\n",
       "    <tr>\n",
       "      <th>3</th>\n",
       "      <td>\\ndo you have weitek s address phone number   ...</td>\n",
       "      <td>1</td>\n",
       "    </tr>\n",
       "    <tr>\n",
       "      <th>4</th>\n",
       "      <td>from article      world std com   by tombaker ...</td>\n",
       "      <td>14</td>\n",
       "    </tr>\n",
       "  </tbody>\n",
       "</table>\n",
       "</div>"
      ],
      "text/plain": [
       "                                                data  target\n",
       "0  i was wondering if anyone out there could enli...       7\n",
       "1  a fair number of brave souls who upgraded thei...       4\n",
       "2  well folks  my mac plus finally gave up the gh...       4\n",
       "3  \\ndo you have weitek s address phone number   ...       1\n",
       "4  from article      world std com   by tombaker ...      14"
      ]
     },
     "execution_count": 16,
     "metadata": {},
     "output_type": "execute_result"
    }
   ],
   "source": [
    "#remove numbers, capital letters and punctuation\n",
    "import re\n",
    "import string\n",
    "\n",
    "alphanumeric = lambda x: re.sub(r\"\"\"\\w*\\d\\w*\"\"\", ' ', x)\n",
    "punc_lower = lambda x: re.sub('[%s]' % re.escape(string.punctuation), ' ', x.lower())\n",
    "\n",
    "mydata_train_df['data'] = mydata_train_df.data.map(alphanumeric).map(punc_lower)\n",
    "mydata_train_df.head()"
   ]
  },
  {
   "cell_type": "code",
   "execution_count": 17,
   "id": "703b4a66-f6b6-4c24-ac72-df117007abf1",
   "metadata": {},
   "outputs": [
    {
     "data": {
      "text/html": [
       "<div>\n",
       "<style scoped>\n",
       "    .dataframe tbody tr th:only-of-type {\n",
       "        vertical-align: middle;\n",
       "    }\n",
       "\n",
       "    .dataframe tbody tr th {\n",
       "        vertical-align: top;\n",
       "    }\n",
       "\n",
       "    .dataframe thead th {\n",
       "        text-align: right;\n",
       "    }\n",
       "</style>\n",
       "<table border=\"1\" class=\"dataframe\">\n",
       "  <thead>\n",
       "    <tr style=\"text-align: right;\">\n",
       "      <th></th>\n",
       "      <th>data</th>\n",
       "      <th>target</th>\n",
       "    </tr>\n",
       "  </thead>\n",
       "  <tbody>\n",
       "    <tr>\n",
       "      <th>0</th>\n",
       "      <td>I am a little confused on all of the models of...</td>\n",
       "      <td>7</td>\n",
       "    </tr>\n",
       "    <tr>\n",
       "      <th>1</th>\n",
       "      <td>I'm not familiar at all with the format of the...</td>\n",
       "      <td>5</td>\n",
       "    </tr>\n",
       "    <tr>\n",
       "      <th>2</th>\n",
       "      <td>\\nIn a word, yes.\\n</td>\n",
       "      <td>0</td>\n",
       "    </tr>\n",
       "    <tr>\n",
       "      <th>3</th>\n",
       "      <td>\\nThey were attacking the Iraqis to drive them...</td>\n",
       "      <td>17</td>\n",
       "    </tr>\n",
       "    <tr>\n",
       "      <th>4</th>\n",
       "      <td>\\nI've just spent two solid months arguing tha...</td>\n",
       "      <td>19</td>\n",
       "    </tr>\n",
       "  </tbody>\n",
       "</table>\n",
       "</div>"
      ],
      "text/plain": [
       "                                                data  target\n",
       "0  I am a little confused on all of the models of...       7\n",
       "1  I'm not familiar at all with the format of the...       5\n",
       "2                                \\nIn a word, yes.\\n       0\n",
       "3  \\nThey were attacking the Iraqis to drive them...      17\n",
       "4  \\nI've just spent two solid months arguing tha...      19"
      ]
     },
     "execution_count": 17,
     "metadata": {},
     "output_type": "execute_result"
    }
   ],
   "source": [
    "#prepare test dataset\n",
    "mydata_test_df = pd.DataFrame({'data': mydata_test.data, 'target': mydata_test.target})\n",
    "mydata_test_df.head()"
   ]
  },
  {
   "cell_type": "code",
   "execution_count": 18,
   "id": "8bb36117-b224-4afd-a9c0-6681a8c6c88c",
   "metadata": {},
   "outputs": [
    {
     "data": {
      "text/html": [
       "<div>\n",
       "<style scoped>\n",
       "    .dataframe tbody tr th:only-of-type {\n",
       "        vertical-align: middle;\n",
       "    }\n",
       "\n",
       "    .dataframe tbody tr th {\n",
       "        vertical-align: top;\n",
       "    }\n",
       "\n",
       "    .dataframe thead th {\n",
       "        text-align: right;\n",
       "    }\n",
       "</style>\n",
       "<table border=\"1\" class=\"dataframe\">\n",
       "  <thead>\n",
       "    <tr style=\"text-align: right;\">\n",
       "      <th></th>\n",
       "      <th>data</th>\n",
       "      <th>target</th>\n",
       "    </tr>\n",
       "  </thead>\n",
       "  <tbody>\n",
       "    <tr>\n",
       "      <th>0</th>\n",
       "      <td>i am a little confused on all of the models of...</td>\n",
       "      <td>7</td>\n",
       "    </tr>\n",
       "    <tr>\n",
       "      <th>1</th>\n",
       "      <td>i m not familiar at all with the format of the...</td>\n",
       "      <td>5</td>\n",
       "    </tr>\n",
       "    <tr>\n",
       "      <th>2</th>\n",
       "      <td>\\nin a word  yes \\n</td>\n",
       "      <td>0</td>\n",
       "    </tr>\n",
       "    <tr>\n",
       "      <th>3</th>\n",
       "      <td>\\nthey were attacking the iraqis to drive them...</td>\n",
       "      <td>17</td>\n",
       "    </tr>\n",
       "    <tr>\n",
       "      <th>4</th>\n",
       "      <td>\\ni ve just spent two solid months arguing tha...</td>\n",
       "      <td>19</td>\n",
       "    </tr>\n",
       "  </tbody>\n",
       "</table>\n",
       "</div>"
      ],
      "text/plain": [
       "                                                data  target\n",
       "0  i am a little confused on all of the models of...       7\n",
       "1  i m not familiar at all with the format of the...       5\n",
       "2                                \\nin a word  yes \\n       0\n",
       "3  \\nthey were attacking the iraqis to drive them...      17\n",
       "4  \\ni ve just spent two solid months arguing tha...      19"
      ]
     },
     "execution_count": 18,
     "metadata": {},
     "output_type": "execute_result"
    }
   ],
   "source": [
    "#remove numbers, capital letters and punctuation\n",
    "alphanumeric = lambda x: re.sub(r\"\"\"\\w*\\d\\w*\"\"\", ' ', x)\n",
    "punc_lower = lambda x: re.sub('[%s]' % re.escape(string.punctuation), ' ', x.lower())\n",
    "\n",
    "mydata_test_df['data'] = mydata_test_df.data.map(alphanumeric).map(punc_lower)\n",
    "mydata_test_df.head()"
   ]
  },
  {
   "cell_type": "markdown",
   "id": "9bbfe1e7-38ed-44fb-bb67-03347621eb0f",
   "metadata": {},
   "source": [
    "VECTORIZATION"
   ]
  },
  {
   "cell_type": "markdown",
   "id": "f0ece83b-4dbc-44f2-ab69-4219d2b86a8f",
   "metadata": {},
   "source": [
    "Ve want to vectorize the data based on word count."
   ]
  },
  {
   "cell_type": "code",
   "execution_count": 19,
   "id": "62b98870-556a-407d-9703-a48d5c4ce91e",
   "metadata": {
    "tags": []
   },
   "outputs": [
    {
     "name": "stdout",
     "output_type": "stream",
     "text": [
      "(11314, 67822)\n",
      "<class 'scipy.sparse.csr.csr_matrix'>\n"
     ]
    }
   ],
   "source": [
    "#extract features from text files\n",
    "from sklearn.feature_extraction.text import CountVectorizer\n",
    "\n",
    "count_vect = CountVectorizer(stop_words='english')\n",
    "\n",
    "X_train_cv = count_vect.fit_transform(mydata_train_df.data)\n",
    "X_test_cv = count_vect.transform(mydata_test_df.data)\n",
    "\n",
    "#print the resulting shape of the sparse matrixes\n",
    "print(X_train_cv.shape)\n",
    "print(type(X_train_cv))\n",
    "\n",
    "#commented out to avoid memory issues on my laptop during execution\n",
    "#print(X_test_cv.shape)\n",
    "#print(type(X_test_cv))"
   ]
  },
  {
   "cell_type": "code",
   "execution_count": 20,
   "id": "2189b136-536c-4c3a-9d6f-e8d5f123e647",
   "metadata": {
    "tags": []
   },
   "outputs": [
    {
     "data": {
      "text/html": [
       "<div>\n",
       "<style scoped>\n",
       "    .dataframe tbody tr th:only-of-type {\n",
       "        vertical-align: middle;\n",
       "    }\n",
       "\n",
       "    .dataframe tbody tr th {\n",
       "        vertical-align: top;\n",
       "    }\n",
       "\n",
       "    .dataframe thead th {\n",
       "        text-align: right;\n",
       "    }\n",
       "</style>\n",
       "<table border=\"1\" class=\"dataframe\">\n",
       "  <thead>\n",
       "    <tr style=\"text-align: right;\">\n",
       "      <th></th>\n",
       "      <th>aa</th>\n",
       "      <th>aaa</th>\n",
       "      <th>aaaaaaaaaaaa</th>\n",
       "      <th>aaaaaaaaaaaaaaaaaaaaaaaaaaaaaaauuuuuuuuuuuuuuuuuuuuuuuuuuuuuuuugggggggggggggggg</th>\n",
       "      <th>aaah</th>\n",
       "      <th>aaahh</th>\n",
       "      <th>aaahhhh</th>\n",
       "      <th>aaai</th>\n",
       "      <th>aacc</th>\n",
       "      <th>aachen</th>\n",
       "      <th>...</th>\n",
       "      <th>zznkjz</th>\n",
       "      <th>zznkzz</th>\n",
       "      <th>zznp</th>\n",
       "      <th>zzrk</th>\n",
       "      <th>zzz</th>\n",
       "      <th>zzzoh</th>\n",
       "      <th>zzzzzz</th>\n",
       "      <th>zzzzzzt</th>\n",
       "      <th>³ation</th>\n",
       "      <th>ýé</th>\n",
       "    </tr>\n",
       "  </thead>\n",
       "  <tbody>\n",
       "    <tr>\n",
       "      <th>0</th>\n",
       "      <td>0</td>\n",
       "      <td>0</td>\n",
       "      <td>0</td>\n",
       "      <td>0</td>\n",
       "      <td>0</td>\n",
       "      <td>0</td>\n",
       "      <td>0</td>\n",
       "      <td>0</td>\n",
       "      <td>0</td>\n",
       "      <td>0</td>\n",
       "      <td>...</td>\n",
       "      <td>0</td>\n",
       "      <td>0</td>\n",
       "      <td>0</td>\n",
       "      <td>0</td>\n",
       "      <td>0</td>\n",
       "      <td>0</td>\n",
       "      <td>0</td>\n",
       "      <td>0</td>\n",
       "      <td>0</td>\n",
       "      <td>0</td>\n",
       "    </tr>\n",
       "    <tr>\n",
       "      <th>1</th>\n",
       "      <td>0</td>\n",
       "      <td>0</td>\n",
       "      <td>0</td>\n",
       "      <td>0</td>\n",
       "      <td>0</td>\n",
       "      <td>0</td>\n",
       "      <td>0</td>\n",
       "      <td>0</td>\n",
       "      <td>0</td>\n",
       "      <td>0</td>\n",
       "      <td>...</td>\n",
       "      <td>0</td>\n",
       "      <td>0</td>\n",
       "      <td>0</td>\n",
       "      <td>0</td>\n",
       "      <td>0</td>\n",
       "      <td>0</td>\n",
       "      <td>0</td>\n",
       "      <td>0</td>\n",
       "      <td>0</td>\n",
       "      <td>0</td>\n",
       "    </tr>\n",
       "    <tr>\n",
       "      <th>2</th>\n",
       "      <td>0</td>\n",
       "      <td>0</td>\n",
       "      <td>0</td>\n",
       "      <td>0</td>\n",
       "      <td>0</td>\n",
       "      <td>0</td>\n",
       "      <td>0</td>\n",
       "      <td>0</td>\n",
       "      <td>0</td>\n",
       "      <td>0</td>\n",
       "      <td>...</td>\n",
       "      <td>0</td>\n",
       "      <td>0</td>\n",
       "      <td>0</td>\n",
       "      <td>0</td>\n",
       "      <td>0</td>\n",
       "      <td>0</td>\n",
       "      <td>0</td>\n",
       "      <td>0</td>\n",
       "      <td>0</td>\n",
       "      <td>0</td>\n",
       "    </tr>\n",
       "    <tr>\n",
       "      <th>3</th>\n",
       "      <td>0</td>\n",
       "      <td>0</td>\n",
       "      <td>0</td>\n",
       "      <td>0</td>\n",
       "      <td>0</td>\n",
       "      <td>0</td>\n",
       "      <td>0</td>\n",
       "      <td>0</td>\n",
       "      <td>0</td>\n",
       "      <td>0</td>\n",
       "      <td>...</td>\n",
       "      <td>0</td>\n",
       "      <td>0</td>\n",
       "      <td>0</td>\n",
       "      <td>0</td>\n",
       "      <td>0</td>\n",
       "      <td>0</td>\n",
       "      <td>0</td>\n",
       "      <td>0</td>\n",
       "      <td>0</td>\n",
       "      <td>0</td>\n",
       "    </tr>\n",
       "    <tr>\n",
       "      <th>4</th>\n",
       "      <td>0</td>\n",
       "      <td>0</td>\n",
       "      <td>0</td>\n",
       "      <td>0</td>\n",
       "      <td>0</td>\n",
       "      <td>0</td>\n",
       "      <td>0</td>\n",
       "      <td>0</td>\n",
       "      <td>0</td>\n",
       "      <td>0</td>\n",
       "      <td>...</td>\n",
       "      <td>0</td>\n",
       "      <td>0</td>\n",
       "      <td>0</td>\n",
       "      <td>0</td>\n",
       "      <td>0</td>\n",
       "      <td>0</td>\n",
       "      <td>0</td>\n",
       "      <td>0</td>\n",
       "      <td>0</td>\n",
       "      <td>0</td>\n",
       "    </tr>\n",
       "  </tbody>\n",
       "</table>\n",
       "<p>5 rows × 67822 columns</p>\n",
       "</div>"
      ],
      "text/plain": [
       "   aa  aaa  aaaaaaaaaaaa  \\\n",
       "0   0    0             0   \n",
       "1   0    0             0   \n",
       "2   0    0             0   \n",
       "3   0    0             0   \n",
       "4   0    0             0   \n",
       "\n",
       "   aaaaaaaaaaaaaaaaaaaaaaaaaaaaaaauuuuuuuuuuuuuuuuuuuuuuuuuuuuuuuugggggggggggggggg  \\\n",
       "0                                                  0                                 \n",
       "1                                                  0                                 \n",
       "2                                                  0                                 \n",
       "3                                                  0                                 \n",
       "4                                                  0                                 \n",
       "\n",
       "   aaah  aaahh  aaahhhh  aaai  aacc  aachen  ...  zznkjz  zznkzz  zznp  zzrk  \\\n",
       "0     0      0        0     0     0       0  ...       0       0     0     0   \n",
       "1     0      0        0     0     0       0  ...       0       0     0     0   \n",
       "2     0      0        0     0     0       0  ...       0       0     0     0   \n",
       "3     0      0        0     0     0       0  ...       0       0     0     0   \n",
       "4     0      0        0     0     0       0  ...       0       0     0     0   \n",
       "\n",
       "   zzz  zzzoh  zzzzzz  zzzzzzt  ³ation  ýé  \n",
       "0    0      0       0        0       0   0  \n",
       "1    0      0       0        0       0   0  \n",
       "2    0      0       0        0       0   0  \n",
       "3    0      0       0        0       0   0  \n",
       "4    0      0       0        0       0   0  \n",
       "\n",
       "[5 rows x 67822 columns]"
      ]
     },
     "execution_count": 20,
     "metadata": {},
     "output_type": "execute_result"
    }
   ],
   "source": [
    "#sparse matrix converted to dataframe\n",
    "X_train_cv_df = pd.DataFrame(X_train_cv.todense())\n",
    "X_train_cv_df.columns = sorted(count_vect.vocabulary_)\n",
    "X_train_cv_df.head()\n",
    "\n",
    "#X_test_cv_df = pd.DataFrame(X_test_cv.todense())\n",
    "#X_test_cv_df.columns = sorted(count_vect.vocabulary_)\n",
    "#X_test_cv_df.head()\n"
   ]
  },
  {
   "cell_type": "markdown",
   "id": "1ff5ea7b-d477-4ba9-8daa-42ffbbc1e8e1",
   "metadata": {},
   "source": [
    "TF-IDF VECTORIZATION"
   ]
  },
  {
   "cell_type": "markdown",
   "id": "3dd28d5f-8a4f-4a9e-95fe-deaa880fb366",
   "metadata": {},
   "source": [
    "We use TF-IDF to extract \"bag of words\" from the text and apply TF-IDF (Term Frequency-Inverse Document Frequency) to weight the word counts by a measure of how often they appear in the document."
   ]
  },
  {
   "cell_type": "code",
   "execution_count": 21,
   "id": "d7e8ce02-9c8f-40d6-8ac7-a78e15604e79",
   "metadata": {},
   "outputs": [
    {
     "name": "stdout",
     "output_type": "stream",
     "text": [
      "(11314, 67822)\n",
      "<class 'scipy.sparse.csr.csr_matrix'>\n"
     ]
    }
   ],
   "source": [
    "#create a document-term matrix using TF-IDF\n",
    "from sklearn.feature_extraction.text import TfidfVectorizer\n",
    "\n",
    "tfidfV = TfidfVectorizer(stop_words='english') \n",
    "\n",
    "\n",
    "X_train_tfidfV = tfidfV.fit_transform(mydata_train_df.data)\n",
    "X_test_tfidfV = tfidfV.transform(mydata_test_df.data)\n",
    "\n",
    "# print the resulting shape of the sparse matrix\n",
    "print(X_train_tfidfV.shape)\n",
    "print(type(X_train_tfidfV))\n",
    "\n",
    "#print(X_test_cv.shape)\n",
    "#print(type(X_test_cv))"
   ]
  },
  {
   "cell_type": "code",
   "execution_count": 23,
   "id": "d3295797-d9f9-482e-9653-467dbbf6f11c",
   "metadata": {
    "tags": []
   },
   "outputs": [
    {
     "data": {
      "text/html": [
       "<div>\n",
       "<style scoped>\n",
       "    .dataframe tbody tr th:only-of-type {\n",
       "        vertical-align: middle;\n",
       "    }\n",
       "\n",
       "    .dataframe tbody tr th {\n",
       "        vertical-align: top;\n",
       "    }\n",
       "\n",
       "    .dataframe thead th {\n",
       "        text-align: right;\n",
       "    }\n",
       "</style>\n",
       "<table border=\"1\" class=\"dataframe\">\n",
       "  <thead>\n",
       "    <tr style=\"text-align: right;\">\n",
       "      <th></th>\n",
       "      <th>aa</th>\n",
       "      <th>aaa</th>\n",
       "      <th>aaaaaaaaaaaa</th>\n",
       "      <th>aaaaaaaaaaaaaaaaaaaaaaaaaaaaaaauuuuuuuuuuuuuuuuuuuuuuuuuuuuuuuugggggggggggggggg</th>\n",
       "      <th>aaah</th>\n",
       "      <th>aaahh</th>\n",
       "      <th>aaahhhh</th>\n",
       "      <th>aaai</th>\n",
       "      <th>aacc</th>\n",
       "      <th>aachen</th>\n",
       "      <th>...</th>\n",
       "      <th>zznkjz</th>\n",
       "      <th>zznkzz</th>\n",
       "      <th>zznp</th>\n",
       "      <th>zzrk</th>\n",
       "      <th>zzz</th>\n",
       "      <th>zzzoh</th>\n",
       "      <th>zzzzzz</th>\n",
       "      <th>zzzzzzt</th>\n",
       "      <th>³ation</th>\n",
       "      <th>ýé</th>\n",
       "    </tr>\n",
       "  </thead>\n",
       "  <tbody>\n",
       "    <tr>\n",
       "      <th>0</th>\n",
       "      <td>0.0</td>\n",
       "      <td>0.0</td>\n",
       "      <td>0.0</td>\n",
       "      <td>0.0</td>\n",
       "      <td>0.0</td>\n",
       "      <td>0.0</td>\n",
       "      <td>0.0</td>\n",
       "      <td>0.0</td>\n",
       "      <td>0.0</td>\n",
       "      <td>0.0</td>\n",
       "      <td>...</td>\n",
       "      <td>0.0</td>\n",
       "      <td>0.0</td>\n",
       "      <td>0.0</td>\n",
       "      <td>0.0</td>\n",
       "      <td>0.0</td>\n",
       "      <td>0.0</td>\n",
       "      <td>0.0</td>\n",
       "      <td>0.0</td>\n",
       "      <td>0.0</td>\n",
       "      <td>0.0</td>\n",
       "    </tr>\n",
       "    <tr>\n",
       "      <th>1</th>\n",
       "      <td>0.0</td>\n",
       "      <td>0.0</td>\n",
       "      <td>0.0</td>\n",
       "      <td>0.0</td>\n",
       "      <td>0.0</td>\n",
       "      <td>0.0</td>\n",
       "      <td>0.0</td>\n",
       "      <td>0.0</td>\n",
       "      <td>0.0</td>\n",
       "      <td>0.0</td>\n",
       "      <td>...</td>\n",
       "      <td>0.0</td>\n",
       "      <td>0.0</td>\n",
       "      <td>0.0</td>\n",
       "      <td>0.0</td>\n",
       "      <td>0.0</td>\n",
       "      <td>0.0</td>\n",
       "      <td>0.0</td>\n",
       "      <td>0.0</td>\n",
       "      <td>0.0</td>\n",
       "      <td>0.0</td>\n",
       "    </tr>\n",
       "    <tr>\n",
       "      <th>2</th>\n",
       "      <td>0.0</td>\n",
       "      <td>0.0</td>\n",
       "      <td>0.0</td>\n",
       "      <td>0.0</td>\n",
       "      <td>0.0</td>\n",
       "      <td>0.0</td>\n",
       "      <td>0.0</td>\n",
       "      <td>0.0</td>\n",
       "      <td>0.0</td>\n",
       "      <td>0.0</td>\n",
       "      <td>...</td>\n",
       "      <td>0.0</td>\n",
       "      <td>0.0</td>\n",
       "      <td>0.0</td>\n",
       "      <td>0.0</td>\n",
       "      <td>0.0</td>\n",
       "      <td>0.0</td>\n",
       "      <td>0.0</td>\n",
       "      <td>0.0</td>\n",
       "      <td>0.0</td>\n",
       "      <td>0.0</td>\n",
       "    </tr>\n",
       "    <tr>\n",
       "      <th>3</th>\n",
       "      <td>0.0</td>\n",
       "      <td>0.0</td>\n",
       "      <td>0.0</td>\n",
       "      <td>0.0</td>\n",
       "      <td>0.0</td>\n",
       "      <td>0.0</td>\n",
       "      <td>0.0</td>\n",
       "      <td>0.0</td>\n",
       "      <td>0.0</td>\n",
       "      <td>0.0</td>\n",
       "      <td>...</td>\n",
       "      <td>0.0</td>\n",
       "      <td>0.0</td>\n",
       "      <td>0.0</td>\n",
       "      <td>0.0</td>\n",
       "      <td>0.0</td>\n",
       "      <td>0.0</td>\n",
       "      <td>0.0</td>\n",
       "      <td>0.0</td>\n",
       "      <td>0.0</td>\n",
       "      <td>0.0</td>\n",
       "    </tr>\n",
       "    <tr>\n",
       "      <th>4</th>\n",
       "      <td>0.0</td>\n",
       "      <td>0.0</td>\n",
       "      <td>0.0</td>\n",
       "      <td>0.0</td>\n",
       "      <td>0.0</td>\n",
       "      <td>0.0</td>\n",
       "      <td>0.0</td>\n",
       "      <td>0.0</td>\n",
       "      <td>0.0</td>\n",
       "      <td>0.0</td>\n",
       "      <td>...</td>\n",
       "      <td>0.0</td>\n",
       "      <td>0.0</td>\n",
       "      <td>0.0</td>\n",
       "      <td>0.0</td>\n",
       "      <td>0.0</td>\n",
       "      <td>0.0</td>\n",
       "      <td>0.0</td>\n",
       "      <td>0.0</td>\n",
       "      <td>0.0</td>\n",
       "      <td>0.0</td>\n",
       "    </tr>\n",
       "  </tbody>\n",
       "</table>\n",
       "<p>5 rows × 67822 columns</p>\n",
       "</div>"
      ],
      "text/plain": [
       "    aa  aaa  aaaaaaaaaaaa  \\\n",
       "0  0.0  0.0           0.0   \n",
       "1  0.0  0.0           0.0   \n",
       "2  0.0  0.0           0.0   \n",
       "3  0.0  0.0           0.0   \n",
       "4  0.0  0.0           0.0   \n",
       "\n",
       "   aaaaaaaaaaaaaaaaaaaaaaaaaaaaaaauuuuuuuuuuuuuuuuuuuuuuuuuuuuuuuugggggggggggggggg  \\\n",
       "0                                                0.0                                 \n",
       "1                                                0.0                                 \n",
       "2                                                0.0                                 \n",
       "3                                                0.0                                 \n",
       "4                                                0.0                                 \n",
       "\n",
       "   aaah  aaahh  aaahhhh  aaai  aacc  aachen  ...  zznkjz  zznkzz  zznp  zzrk  \\\n",
       "0   0.0    0.0      0.0   0.0   0.0     0.0  ...     0.0     0.0   0.0   0.0   \n",
       "1   0.0    0.0      0.0   0.0   0.0     0.0  ...     0.0     0.0   0.0   0.0   \n",
       "2   0.0    0.0      0.0   0.0   0.0     0.0  ...     0.0     0.0   0.0   0.0   \n",
       "3   0.0    0.0      0.0   0.0   0.0     0.0  ...     0.0     0.0   0.0   0.0   \n",
       "4   0.0    0.0      0.0   0.0   0.0     0.0  ...     0.0     0.0   0.0   0.0   \n",
       "\n",
       "   zzz  zzzoh  zzzzzz  zzzzzzt  ³ation   ýé  \n",
       "0  0.0    0.0     0.0      0.0     0.0  0.0  \n",
       "1  0.0    0.0     0.0      0.0     0.0  0.0  \n",
       "2  0.0    0.0     0.0      0.0     0.0  0.0  \n",
       "3  0.0    0.0     0.0      0.0     0.0  0.0  \n",
       "4  0.0    0.0     0.0      0.0     0.0  0.0  \n",
       "\n",
       "[5 rows x 67822 columns]"
      ]
     },
     "execution_count": 23,
     "metadata": {},
     "output_type": "execute_result"
    }
   ],
   "source": [
    "#sparse matrix converted to dataframe\n",
    "X_train_tfidfV_df = pd.DataFrame(X_train_tfidfV.todense())\n",
    "X_train_tfidfV_df.columns = sorted(tfidfV.vocabulary_)\n",
    "X_train_tfidfV_df.head(5)\n",
    "\n",
    "#X_test_cv_df = pd.DataFrame(X_test_cv.todense())\n",
    "#X_test_cv_df.columns = sorted(count_vect.vocabulary_)\n",
    "#X_test_cv_df.head()"
   ]
  },
  {
   "cell_type": "markdown",
   "id": "247d689f-56e9-4ed0-88b1-8ede35c1c3d0",
   "metadata": {
    "tags": []
   },
   "source": [
    "**6. Baseline performance**"
   ]
  },
  {
   "cell_type": "markdown",
   "id": "c28c040d-6d07-4e4c-89bb-b63ddbe798fe",
   "metadata": {},
   "source": [
    "I have chosen Multinomial Naive Bayes where the features are assumed to be generated from a simple multinomial distribution.\n",
    "\n",
    "It describes the probability of observing counts among a number of categories.\n",
    "\n",
    "Multinomial Naive Bayes is often used in text classification where the features are related to word counts or frequencies within a document to be classified."
   ]
  },
  {
   "cell_type": "markdown",
   "id": "5e71ce58-046a-46fc-a085-3735dea3d403",
   "metadata": {},
   "source": [
    "**7. Classification approach**\n",
    "\n",
    "I am planning to experiment with different classifiers (Multinomial Naive Bayes, Logistic Regression, Stochastic Gradient Descent and K Nearest Neighbors) and understand if stemming improve the accuracy and quality of results."
   ]
  },
  {
   "cell_type": "markdown",
   "id": "f2ba1dd9-5c3c-4abc-9242-b559600cf0ee",
   "metadata": {},
   "source": [
    "CLASSIFICATION WITHOUT STEMMING USING NAIVE BAYES"
   ]
  },
  {
   "cell_type": "code",
   "execution_count": 24,
   "id": "8a9e63ed-8f1c-47e4-bb61-a1d893ee939e",
   "metadata": {},
   "outputs": [
    {
     "name": "stdout",
     "output_type": "stream",
     "text": [
      "Wall time: 181 ms\n"
     ]
    },
    {
     "data": {
      "text/plain": [
       "MultinomialNB()"
      ]
     },
     "execution_count": 24,
     "metadata": {},
     "output_type": "execute_result"
    }
   ],
   "source": [
    "%%time\n",
    "#Naive Bayes model \n",
    "from sklearn.naive_bayes import MultinomialNB \n",
    "\n",
    "mnb = MultinomialNB() \n",
    "\n",
    "# Train the model \n",
    "y_train = mydata_train_df.target\n",
    "mnb.fit(X_train_cv, y_train) "
   ]
  },
  {
   "cell_type": "code",
   "execution_count": 25,
   "id": "bba38d3d-8d5d-4e21-9fb3-a89ed4dbedec",
   "metadata": {},
   "outputs": [
    {
     "data": {
      "text/plain": [
       "array([ 7,  1, 15, ..., 15,  3, 15])"
      ]
     },
     "execution_count": 25,
     "metadata": {},
     "output_type": "execute_result"
    }
   ],
   "source": [
    "#model that was trained on the X_train_cv dataset is applied to the X_test_cv dataset\n",
    "y_pred_cv_mnb = mnb.predict(X_test_cv) \n",
    "y_pred_cv_mnb"
   ]
  },
  {
   "cell_type": "code",
   "execution_count": 26,
   "id": "b0ad0b51-6a51-4a02-8b44-149b262b7780",
   "metadata": {},
   "outputs": [
    {
     "name": "stdout",
     "output_type": "stream",
     "text": [
      "0.6399362719065321\n",
      "              precision    recall  f1-score   support\n",
      "\n",
      "           0       0.60      0.36      0.45       319\n",
      "           1       0.57      0.70      0.63       389\n",
      "           2       0.67      0.01      0.02       394\n",
      "           3       0.50      0.71      0.58       392\n",
      "           4       0.72      0.58      0.64       385\n",
      "           5       0.58      0.80      0.67       395\n",
      "           6       0.85      0.66      0.75       390\n",
      "           7       0.82      0.70      0.76       396\n",
      "           8       0.90      0.65      0.75       398\n",
      "           9       0.93      0.76      0.84       397\n",
      "          10       0.58      0.92      0.71       399\n",
      "          11       0.58      0.78      0.66       396\n",
      "          12       0.67      0.49      0.57       393\n",
      "          13       0.83      0.79      0.81       396\n",
      "          14       0.76      0.75      0.76       394\n",
      "          15       0.48      0.90      0.63       398\n",
      "          16       0.55      0.65      0.60       364\n",
      "          17       0.66      0.78      0.72       376\n",
      "          18       0.44      0.44      0.44       310\n",
      "          19       0.44      0.06      0.11       251\n",
      "\n",
      "    accuracy                           0.64      7532\n",
      "   macro avg       0.66      0.62      0.60      7532\n",
      "weighted avg       0.66      0.64      0.62      7532\n",
      "\n"
     ]
    }
   ],
   "source": [
    "#print metrics report and accuracy score \n",
    "from sklearn.metrics import classification_report, accuracy_score\n",
    "\n",
    "y_test = mydata_test_df.target\n",
    "print(accuracy_score(y_test, y_pred_cv_mnb))\n",
    "print(classification_report(y_test, y_pred_cv_mnb))"
   ]
  },
  {
   "cell_type": "code",
   "execution_count": 27,
   "id": "f556c7af-7562-4391-a9de-7372a85e4f2c",
   "metadata": {},
   "outputs": [
    {
     "data": {
      "image/png": "[encoded data removed]",
      "text/plain": [
       "<Figure size 432x288 with 2 Axes>"
      ]
     },
     "metadata": {
      "needs_background": "light"
     },
     "output_type": "display_data"
    }
   ],
   "source": [
    "#use Seaborn Library to visualize the confusion matrix\n",
    "import seaborn as sns\n",
    "from sklearn.metrics import confusion_matrix\n",
    "mat = confusion_matrix(y_test, y_pred_cv_mnb)\n",
    "sns.heatmap(mat.T, square=True, annot=True, fmt='d', cbar=True,linewidths=.1,\n",
    "xticklabels=mydata_train.target_names, yticklabels=mydata_test.target_names)\n",
    "plt.xlabel('True Label')\n",
    "plt.ylabel('Predicted Label');"
   ]
  },
  {
   "cell_type": "markdown",
   "id": "0c764751-6c69-4b31-8129-71b8bd3fdd5b",
   "metadata": {},
   "source": [
    "CLASSIFICATION WITH STEMMING AND PIPELINE"
   ]
  },
  {
   "cell_type": "markdown",
   "id": "00eaece6-f263-4202-ab79-7dcfd56573ec",
   "metadata": {
    "tags": []
   },
   "source": [
    "Both stemming and lemmatization are text normalizing procedures\n",
    "\n",
    "Stemming is the process of reducing inflection toward their root forms for example play is the root base word for \"playing\", \"played\" etc.\n",
    "Stemming slice \"playing\" removing the suffix \"-ing\"\n",
    "\n",
    "Lemmatization is the process of switching any word to its base root\n",
    "It is similar to stemming but has a linguistically principled analysis and therefore identify the correct lemma of each word.\n",
    "For example \"troubled\" is solved by lemmatization with \"trouble\" identifying the correct form\n",
    "Stemming would have solved \"troubled\" by slicing \"-ed\" with a base root \"troubl\"\n",
    "\n",
    "Stemming is faster but less accurate chopping words without context can create non existing words it can be useful though in a context where the meaning of the word is not important such as Spam Detection.\n",
    "\n",
    "Lemmatization is slower but more accurate and give meaningful words it is used in contexts such as Queries and Answers where the meaning of the word is important.\n",
    "\n",
    "We use here Snowball stemmer. "
   ]
  },
  {
   "cell_type": "code",
   "execution_count": 28,
   "id": "aa1a2754-8961-4ac4-82bb-2849545f74ab",
   "metadata": {},
   "outputs": [],
   "source": [
    "#create a Stemmer class to feed it to the pipeline\n",
    "stemmer = SnowballStemmer('english', ignore_stopwords=True)\n",
    "\n",
    "class StemmedTfidfVectorizer(TfidfVectorizer):\n",
    "    \n",
    "    def __init__(self, stemmer, *args, **kwargs):\n",
    "        super(StemmedTfidfVectorizer, self).__init__(*args, **kwargs)\n",
    "        self.stemmer = stemmer\n",
    "        \n",
    "    def build_analyzer(self):\n",
    "        analyzer = super(StemmedTfidfVectorizer, self).build_analyzer()\n",
    "        return lambda doc: (self.stemmer.stem(word) for word in analyzer(doc.replace('\\n', ' ')))"
   ]
  },
  {
   "cell_type": "markdown",
   "id": "65ca4871-28bb-4a32-b37a-005d5a55778b",
   "metadata": {},
   "source": [
    "CLASSIFICATION WITH STEMMING USING NAIVE BAYES"
   ]
  },
  {
   "cell_type": "code",
   "execution_count": 29,
   "id": "4d22c971-f61d-4164-ab7d-4eeb55737a83",
   "metadata": {},
   "outputs": [
    {
     "name": "stdout",
     "output_type": "stream",
     "text": [
      "0.6648964418481147\n",
      "              precision    recall  f1-score   support\n",
      "\n",
      "           0       0.83      0.15      0.25       319\n",
      "           1       0.69      0.65      0.67       389\n",
      "           2       0.68      0.52      0.59       394\n",
      "           3       0.56      0.74      0.64       392\n",
      "           4       0.80      0.67      0.73       385\n",
      "           5       0.77      0.81      0.79       395\n",
      "           6       0.81      0.68      0.74       390\n",
      "           7       0.85      0.73      0.79       396\n",
      "           8       0.86      0.72      0.78       398\n",
      "           9       0.96      0.77      0.86       397\n",
      "          10       0.58      0.93      0.71       399\n",
      "          11       0.53      0.81      0.64       396\n",
      "          12       0.70      0.51      0.59       393\n",
      "          13       0.85      0.75      0.80       396\n",
      "          14       0.79      0.75      0.77       394\n",
      "          15       0.35      0.92      0.51       398\n",
      "          16       0.55      0.70      0.61       364\n",
      "          17       0.78      0.80      0.79       376\n",
      "          18       0.87      0.25      0.39       310\n",
      "          19       1.00      0.01      0.02       251\n",
      "\n",
      "    accuracy                           0.66      7532\n",
      "   macro avg       0.74      0.64      0.63      7532\n",
      "weighted avg       0.73      0.66      0.65      7532\n",
      "\n",
      "Wall time: 1min 13s\n"
     ]
    }
   ],
   "source": [
    "%%time\n",
    "#Naive Bayes model with stemming\n",
    "text_clf = Pipeline([\n",
    "        ('vect', StemmedTfidfVectorizer(stemmer=stemmer, stop_words='english', sublinear_tf=True)),\n",
    "        ('clf', MultinomialNB())])  \n",
    "\n",
    "text_clf.fit(mydata_train_df.data, mydata_train_df.target)\n",
    "print(text_clf.score(mydata_test_df.data, mydata_test_df.target))\n",
    "print(classification_report(mydata_test_df.target, text_clf.predict(mydata_test_df.data)))"
   ]
  },
  {
   "cell_type": "markdown",
   "id": "7634994e-b990-4d35-9012-25a8b50ca7f1",
   "metadata": {},
   "source": [
    "We can see an increase in accuracy compared to the model without stemming."
   ]
  },
  {
   "cell_type": "markdown",
   "id": "cbd272a1-259d-48a7-883e-ad038c7f1189",
   "metadata": {},
   "source": [
    "CLASSIFICATION WITH STEMMING USING LOGISTIC REGRESSION"
   ]
  },
  {
   "cell_type": "code",
   "execution_count": 30,
   "id": "e0c8e178-6e95-4dd5-b827-f00b46865861",
   "metadata": {},
   "outputs": [
    {
     "name": "stdout",
     "output_type": "stream",
     "text": [
      "0.6901221455124801\n",
      "              precision    recall  f1-score   support\n",
      "\n",
      "           0       0.49      0.49      0.49       319\n",
      "           1       0.63      0.70      0.66       389\n",
      "           2       0.66      0.62      0.64       394\n",
      "           3       0.68      0.65      0.67       392\n",
      "           4       0.74      0.69      0.71       385\n",
      "           5       0.82      0.70      0.75       395\n",
      "           6       0.73      0.78      0.76       390\n",
      "           7       0.78      0.72      0.75       396\n",
      "           8       0.49      0.79      0.60       398\n",
      "           9       0.79      0.83      0.81       397\n",
      "          10       0.91      0.88      0.89       399\n",
      "          11       0.89      0.68      0.77       396\n",
      "          12       0.56      0.61      0.58       393\n",
      "          13       0.77      0.79      0.78       396\n",
      "          14       0.74      0.73      0.74       394\n",
      "          15       0.65      0.80      0.72       398\n",
      "          16       0.58      0.68      0.63       364\n",
      "          17       0.85      0.76      0.80       376\n",
      "          18       0.56      0.44      0.49       310\n",
      "          19       0.51      0.20      0.28       251\n",
      "\n",
      "    accuracy                           0.69      7532\n",
      "   macro avg       0.69      0.68      0.68      7532\n",
      "weighted avg       0.70      0.69      0.69      7532\n",
      "\n",
      "Wall time: 1min 16s\n"
     ]
    }
   ],
   "source": [
    "%%time\n",
    "#Logistic Regression with stemming\n",
    "text_clf = Pipeline([\n",
    "        ('vect', StemmedTfidfVectorizer(stemmer=stemmer, stop_words='english', sublinear_tf=True)), \n",
    "        ('clf', LogisticRegression())])  \n",
    "\n",
    "text_clf.fit(mydata_train_df.data, mydata_train_df.target)\n",
    "print(text_clf.score(mydata_test_df.data, mydata_test_df.target))\n",
    "print(classification_report(mydata_test_df.target, text_clf.predict(mydata_test_df.data)))"
   ]
  },
  {
   "cell_type": "markdown",
   "id": "2c90a4eb-5b0d-4747-b09a-3c6a6e8a9508",
   "metadata": {},
   "source": [
    "CLASSIFICATION WITH STEMMING USING STOCHASTIC GRADIENT DESCENT "
   ]
  },
  {
   "cell_type": "code",
   "execution_count": 31,
   "id": "141c090a-3d37-4c99-be03-9f21535326e3",
   "metadata": {},
   "outputs": [
    {
     "name": "stdout",
     "output_type": "stream",
     "text": [
      "0.6996813595326606\n",
      "              precision    recall  f1-score   support\n",
      "\n",
      "           0       0.53      0.49      0.51       319\n",
      "           1       0.66      0.71      0.68       389\n",
      "           2       0.62      0.62      0.62       394\n",
      "           3       0.69      0.64      0.66       392\n",
      "           4       0.71      0.72      0.72       385\n",
      "           5       0.80      0.72      0.76       395\n",
      "           6       0.73      0.79      0.76       390\n",
      "           7       0.77      0.72      0.75       396\n",
      "           8       0.82      0.76      0.79       398\n",
      "           9       0.55      0.87      0.68       397\n",
      "          10       0.87      0.91      0.89       399\n",
      "          11       0.85      0.72      0.78       396\n",
      "          12       0.63      0.55      0.59       393\n",
      "          13       0.79      0.80      0.79       396\n",
      "          14       0.74      0.76      0.75       394\n",
      "          15       0.65      0.82      0.73       398\n",
      "          16       0.58      0.68      0.62       364\n",
      "          17       0.84      0.77      0.80       376\n",
      "          18       0.58      0.44      0.50       310\n",
      "          19       0.50      0.23      0.32       251\n",
      "\n",
      "    accuracy                           0.70      7532\n",
      "   macro avg       0.70      0.69      0.68      7532\n",
      "weighted avg       0.70      0.70      0.70      7532\n",
      "\n",
      "Wall time: 58.1 s\n"
     ]
    }
   ],
   "source": [
    "%%time\n",
    "#Stochastic Gradient Descent with stemming\n",
    "random.seed(1)\n",
    "text_clf = Pipeline([\n",
    "        ('vect', StemmedTfidfVectorizer(stemmer=stemmer, stop_words='english', sublinear_tf=True)), \n",
    "        ('clf', SGDClassifier())])  \n",
    "\n",
    "text_clf.fit(mydata_train_df.data, mydata_train_df.target)\n",
    "print(text_clf.score(mydata_test_df.data, mydata_test_df.target))\n",
    "print(classification_report(mydata_test_df.target, text_clf.predict(mydata_test_df.data)))"
   ]
  },
  {
   "cell_type": "markdown",
   "id": "eec13328-3cc2-4eb1-805e-1f9c3872a42d",
   "metadata": {},
   "source": [
    "CLASSIFICATION WITH STEMMING USING K NEAREST NEIGHBORS"
   ]
  },
  {
   "cell_type": "code",
   "execution_count": 32,
   "id": "b3812297-784b-48b1-b2b0-4f6a17b237ee",
   "metadata": {},
   "outputs": [
    {
     "name": "stdout",
     "output_type": "stream",
     "text": [
      "0.08404142326075412\n",
      "              precision    recall  f1-score   support\n",
      "\n",
      "           0       0.05      0.17      0.07       319\n",
      "           1       0.06      0.14      0.08       389\n",
      "           2       0.06      0.19      0.09       394\n",
      "           3       0.10      0.11      0.11       392\n",
      "           4       0.06      0.11      0.08       385\n",
      "           5       0.24      0.04      0.07       395\n",
      "           6       0.22      0.14      0.17       390\n",
      "           7       0.05      0.10      0.07       396\n",
      "           8       0.13      0.08      0.10       398\n",
      "           9       0.06      0.07      0.06       397\n",
      "          10       0.24      0.11      0.15       399\n",
      "          11       0.12      0.06      0.08       396\n",
      "          12       0.14      0.05      0.07       393\n",
      "          13       0.11      0.04      0.05       396\n",
      "          14       0.17      0.06      0.09       394\n",
      "          15       0.12      0.01      0.02       398\n",
      "          16       0.07      0.02      0.03       364\n",
      "          17       0.23      0.12      0.16       376\n",
      "          18       0.06      0.03      0.04       310\n",
      "          19       0.05      0.03      0.04       251\n",
      "\n",
      "    accuracy                           0.08      7532\n",
      "   macro avg       0.12      0.08      0.08      7532\n",
      "weighted avg       0.12      0.08      0.08      7532\n",
      "\n",
      "Wall time: 1min 5s\n"
     ]
    }
   ],
   "source": [
    "%%time\n",
    "#kNN with stemming\n",
    "text_clf = Pipeline([\n",
    "        ('vect', StemmedTfidfVectorizer(stemmer=stemmer, stop_words='english', sublinear_tf=True)), \n",
    "        ('clf', KNeighborsClassifier(n_neighbors=5, weights='distance'))])\n",
    "\n",
    "text_clf.fit(mydata_train_df.data, mydata_train_df.target)\n",
    "print(text_clf.score(mydata_test_df.data, mydata_test_df.target))\n",
    "print(classification_report(mydata_test_df.target, text_clf.predict(mydata_test_df.data)))"
   ]
  },
  {
   "cell_type": "markdown",
   "id": "642791ea-8474-4144-b096-9e98ac5dbed8",
   "metadata": {},
   "source": [
    "**8. Coding style**"
   ]
  },
  {
   "cell_type": "markdown",
   "id": "d3ba1b5b-ccb4-4ee8-b24b-46b781f1e095",
   "metadata": {},
   "source": [
    "I have used standard coding best practices with consistent notes accompanying the code at each step."
   ]
  },
  {
   "cell_type": "markdown",
   "id": "71e956bf-faf8-4429-a35c-86cdb6001998",
   "metadata": {},
   "source": [
    "III Conclusions"
   ]
  },
  {
   "cell_type": "markdown",
   "id": "cb734709-bbd2-4d24-ab71-98b941a42b30",
   "metadata": {},
   "source": [
    "**9. Evaluation**"
   ]
  },
  {
   "cell_type": "markdown",
   "id": "50a33b11-eebd-4c77-8094-92a23192b8b5",
   "metadata": {},
   "source": [
    "I have compared classifiers and run some experiments with or without stemmming. We have noticed that TF-IDF Vectorization give better results than Count Vectorizer. \n",
    "The best accuracy was obtained using Stemming with SGD (Stochastic Gradient Descent).\n",
    "\n",
    "\n",
    "\n"
   ]
  },
  {
   "cell_type": "markdown",
   "id": "9caf49e2-4f24-4c0a-8548-6b7115118d95",
   "metadata": {},
   "source": [
    "**10. Summary and conclusions**"
   ]
  },
  {
   "cell_type": "markdown",
   "id": "ead9f309-5472-4d0e-919a-726927045cbe",
   "metadata": {},
   "source": [
    "I have tested different classifiers and techniques as per the course material and experimented with different settings and configuration to understand better the dataset and obtain further insights.\n",
    "The best perfermoning classifiers are Stochastic Gradient Descent and Logistic Regression.\n",
    "Further experimentation could involve using stemming with bigrams or n-grams although it could be resource intensive for my basic laptop and would require a more accessorized laptop to avoid lenghty processing times.\n",
    "\n"
   ]
  },
  {
   "cell_type": "code",
   "execution_count": null,
   "id": "d61f79c5",
   "metadata": {},
   "outputs": [],
   "source": []
  }
 ],
 "metadata": {
  "kernelspec": {
   "display_name": "Python 3",
   "language": "python",
   "name": "python3"
  },
  "language_info": {
   "codemirror_mode": {
    "name": "ipython",
    "version": 3
   },
   "file_extension": ".py",
   "mimetype": "text/x-python",
   "name": "python",
   "nbconvert_exporter": "python",
   "pygments_lexer": "ipython3",
   "version": "3.8.8"
  }
 },
 "nbformat": 4,
 "nbformat_minor": 5
}
